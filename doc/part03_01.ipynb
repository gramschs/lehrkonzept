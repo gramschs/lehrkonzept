{
 "cells": [
  {
   "cell_type": "markdown",
   "id": "eaa898d6",
   "metadata": {},
   "source": [
    "# Demo Informatik (Python) \n",
    "\n",
    "## Einführung\n",
    "\n",
    "Dieses Jupyter Notebook ist der Einstieg in die wissenschaftliche Programmierung\n",
    "mit Python. Zuerst werden wir Python als Taschenrechner benutzen. Danach\n",
    "beschäftigen wir uns mit grundlegenden Begriffen der Informatik, nämlich\n",
    "\n",
    "* Hardware und Software,\n",
    "* Betriebssystem, Anwendungssoftware (App) und Bibliotheken\n",
    "* Programm und Skript sowie\n",
    "* kompilierte und interpretierte Programmiersprachen.\n",
    "\n",
    "Nach dem kurzen Ausflug in die Theorie der Informatik widmen wir uns einfachen\n",
    "Datentypen und Variablen. Zusammen mit einfachen Python-Kommandos, um Eingaben\n",
    "einer Benutzerin oder eines Benutzers abzufragen und auf dem Bildschirm\n",
    "auszugeben, wird es uns möglich, erste kleinere Python-Skripte zu schreiben.\n",
    "Das entspricht auch dem grundlegenden Ablauf in der Datenverarbeitung, dem\n",
    "EVA-Prinzip, das für Eingabe, Verarbeitung und Ausgabe steht.\n",
    "\n",
    "## Lernziele\n",
    "\n",
    "```{admonition} Lernziele\n",
    ":class: tip\n",
    "* Python als Taschenrechner\n",
    "* Grundlegende Begriffe zum Programmieren\n",
    "* Einfache Datentypen: Integer, Float und String\n",
    "* Eingabe mit der input()-Funktion\n",
    "* Verarbeitung mit dem Zuweisungsoperator =\n",
    "* Ausgabe mit der print()-Funktion\n",
    "```\n",
    "\n",
    "## Python als Taschenrechner\n",
    "\n",
    "Was ist überhaupt Python? Wikipedia erklärt Python folgendermaßen: \n",
    "\n",
    "> \"Python ([ˈpʰaɪθn̩], [ˈpʰaɪθɑn], auf Deutsch auch [ˈpʰyːtɔn]) ist eine\n",
    "  universelle, üblicherweise interpretierte, höhere Programmiersprache. Sie hat\n",
    "  den Anspruch, einen gut lesbaren, knappen Programmierstil zu fördern. So\n",
    "  werden beispielsweise Blöcke nicht durch geschweifte Klammern, sondern durch\n",
    "  Einrückungen strukturiert.\" \n",
    "  (Quelle: [Wikipedia](https://de.wikipedia.org/wiki/Python_(Programmiersprache)))\n",
    "\n",
    "Aber benutzen wir Python erst einmal als Taschenrechner, bevor wir mit der\n",
    "Programmierung starten. Im Folgenden sehen Sie, wie die Grundrechenarten in\n",
    "Python verwendet werden:\n",
    "\n",
    "Addition:\n",
    "\n",
    "```python\n",
    "2+3\n",
    "```\n",
    "\n",
    "Subtraktion:\n",
    "\n",
    "```python\n",
    "2-3\n",
    "```\n",
    "\n",
    "Multiplikation:\n",
    "\n",
    "```python\n",
    "2*4\n",
    "```\n",
    "\n",
    "Division:\n",
    "\n",
    "```python\n",
    "8/2\n",
    "```\n",
    "\n",
    "Potenzierung:\n",
    "\n",
    "```python\n",
    "3**2\n",
    "```\n",
    "\n",
    "Probieren Sie es jetzt Python als Taschenrechner in den folgenden Mini-Übungen\n",
    "aus! Wenn Sie das erste Mal mit diesen interaktiven Vorlesungsskripten arbeiten,\n",
    "lesen Sie bitte erst die [](usage) durch.\n",
    "\n",
    "\n",
    "```{admonition} Mini-Übung\n",
    ":class: miniexercise\n",
    "Lassen Sie Python den Term $3\\cdot (7-10)+5$ berechnen. \n",
    "```"
   ]
  },
  {
   "cell_type": "code",
   "execution_count": 1,
   "id": "d63b6c50-e5c4-437b-b4eb-4e02b31684aa",
   "metadata": {},
   "outputs": [
    {
     "data": {
      "text/plain": [
       "-4"
      ]
     },
     "execution_count": 1,
     "metadata": {},
     "output_type": "execute_result"
    }
   ],
   "source": [
    "# Geben Sie nach diesem Kommentar Ihren Code ein:\n"
   ]
  },
  {
   "cell_type": "markdown",
   "id": "f82b97bc",
   "metadata": {},
   "source": [
    "````{admonition} Lösung\n",
    ":class: minisolution, toggle\n",
    "```python\n",
    "# Geben Sie nach diesem Kommentar Ihren Code ein:\n",
    "3 * (7-10) + 5\n",
    "```\n",
    "````\n",
    "\n",
    "\n",
    "\n",
    "## Programmiersprachen und das erste Python-Programm\n",
    "\n",
    "Es gibt viele Programmiersprachen und jede hat ihre Vorteile und ihre Nachteile.\n",
    "Aber was ist eine Programmiersprache überhaupt? Eine **Programmiersprache** ist\n",
    "die formale Sprache zur Formulierung von Datenstrukturen und Algorithmen (=\n",
    "Abfolge von Anweisungen), die von einem Computer ausgeführt werden können. \n",
    "\n",
    "Es gibt nicht die wichtigste oder beste Programmiersprache, sondern die Auswahl\n",
    "der Programmiersprache sollte sich stets nach der anvisierten Anwendung richten.\n",
    "Der sogenannte Tiobe-Index zeigt die Beliebtheit der 50 wichtigsten\n",
    "Programmiersprachen: \n",
    "\n",
    "https://www.tiobe.com/tiobe-index/ \n",
    "\n",
    "In der Anfangszeit der Computer waren Programmiersprachen noch sehr nahe am\n",
    "Computern ausgerichtet. Hier sehen Sie ein Beispiel, wie in der\n",
    "Programmiersprache Assembler die Meldung \"Hallo Welt\" auf dem Monitor angezeigt\n",
    "wird:\n",
    "\n",
    "```{figure} pics/part03_assembler.png\n",
    ":name: part03_assembler\n",
    "\n",
    "\"Hallo Welt\" in Assembler (Quelle: [Wikipedia/Assemblersprache](https://de.wikipedia.org/wiki/Assemblersprache))\n",
    "```\n",
    "\n",
    "In Python ist dieser Programmcode wesentlich kürzer:\n",
    "\n",
    "```python\n",
    "print('Hallo Welt')\n",
    "```\n",
    "\n",
    "```{admonition} Mini-Übung\n",
    ":class: miniexercise\n",
    "Kopieren Sie die Zeile `print('Hallo Welt')` in die nächste Code-Zelle unter die Kommentarzeile und lassen Sie das Programm laufen. \n",
    "\n",
    "Ihr erstes Computerprogramm in Python 😀\n",
    "```"
   ]
  },
  {
   "cell_type": "code",
   "execution_count": null,
   "id": "68c06361",
   "metadata": {},
   "outputs": [],
   "source": [
    "# Geben Sie Ihren Code ein:"
   ]
  },
  {
   "cell_type": "markdown",
   "id": "1515f63f",
   "metadata": {},
   "source": [
    "````{admonition} Lösung\n",
    ":class: minisolution, toggle\n",
    "```python\n",
    "# Geben Sie Ihren Code ein:\n",
    "print('Hallo Welt')\n",
    "```\n",
    "````\n",
    "\n",
    "Und jetzt verändern Sie den Python-Code in der folgenden Mini-Übung.\n",
    "\n",
    "```{admonition} Mini-Übung\n",
    ":class: miniexercise\n",
    "Ersetzen Sie in der Anweisung `print('Hallo Welt')` das Wort Welt durch Ihren Namen und lassen Sie das Programm laufen.\n",
    "```"
   ]
  },
  {
   "cell_type": "code",
   "execution_count": null,
   "id": "d96b9a4d",
   "metadata": {},
   "outputs": [],
   "source": [
    "# Geben Sie Ihren Code ein:"
   ]
  },
  {
   "cell_type": "markdown",
   "id": "7052d877",
   "metadata": {},
   "source": [
    "````{admonition} Lösung\n",
    ":class: minisolution, toggle\n",
    "```python\n",
    "# Geben Sie Ihren Code ein:\n",
    "print('Hallo Simone')\n",
    "```\n",
    "````\n",
    "\n",
    "## Zusammenfassung und Ausblick\n",
    "\n",
    "Der Einstieg in die wissenschaftliche Programmierung mit Python ist zunächst\n",
    "theoretisch. Zuerst haben wir uns mit grundlegenden Fachbegriffen der\n",
    "theoretischen Informatik und dem EVA-Prinzip beschäftigt. Aber bereits mit den\n",
    "ersten Funktionen in Python wie `input()` und `print()` sowie der Benutzung von\n",
    "Variablen können wir erste Python-Skripte programmieren."
   ]
  }
 ],
 "metadata": {
  "jupytext": {
   "formats": "ipynb,md:myst"
  },
  "kernelspec": {
   "display_name": "Python 3",
   "language": "python",
   "name": "python3"
  },
  "language_info": {
   "codemirror_mode": {
    "name": "ipython",
    "version": 3
   },
   "file_extension": ".py",
   "mimetype": "text/x-python",
   "name": "python",
   "nbconvert_exporter": "python",
   "pygments_lexer": "ipython3",
   "version": "3.9.15"
  }
 },
 "nbformat": 4,
 "nbformat_minor": 5
}
